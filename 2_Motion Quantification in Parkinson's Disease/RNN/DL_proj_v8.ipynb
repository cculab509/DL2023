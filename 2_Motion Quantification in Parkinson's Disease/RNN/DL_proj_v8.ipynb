{
  "nbformat": 4,
  "nbformat_minor": 0,
  "metadata": {
    "colab": {
      "provenance": [],
      "gpuType": "T4"
    },
    "kernelspec": {
      "name": "python3",
      "display_name": "Python 3"
    },
    "language_info": {
      "name": "python"
    },
    "gpuClass": "standard"
  },
  "cells": [
    {
      "cell_type": "markdown",
      "source": [
        "# **連接Google Drive**\n"
      ],
      "metadata": {
        "id": "EN1b89UpTYoA"
      }
    },
    {
      "cell_type": "code",
      "execution_count": null,
      "metadata": {
        "colab": {
          "base_uri": "https://localhost:8080/"
        },
        "id": "JA-aA3D0QvBj",
        "outputId": "21fd0a2e-5af3-4210-c60d-de19bb49b963"
      },
      "outputs": [
        {
          "output_type": "stream",
          "name": "stdout",
          "text": [
            "Mounted at /content/gdrive\n"
          ]
        }
      ],
      "source": [
        "from google.colab import drive\n",
        "drive.mount('/content/gdrive', force_remount = True)"
      ]
    },
    {
      "cell_type": "markdown",
      "source": [
        "# **讀入檔案**"
      ],
      "metadata": {
        "id": "SL2Fd4G7Tl3E"
      }
    },
    {
      "cell_type": "code",
      "source": [
        "import json\n",
        "import os\n",
        "import re\n",
        "import pandas as pd\n",
        "import numpy as np\n",
        "input_path = \"/content/gdrive/MyDrive/dl_proj/HM-300.json\"\n",
        "input_path1 = \"/content/gdrive/MyDrive/dl_proj/HM-300-1.json\"\n",
        "input_path2 = \"/content/gdrive/MyDrive/dl_proj/HM-300-2.json\"\n",
        "with open(input_path,'r') as f:\n",
        "  data = json.load(f)\n",
        "with open(input_path1,'r') as f1:\n",
        "  data1 = json.load(f1)\n",
        "with open(input_path2,'r') as f2:\n",
        "  data2 = json.load(f2)\n",
        "print(len(data))\n",
        "print(type(data))\n",
        "print(len(data1))\n",
        "print(type(data1))\n",
        "print(len(data2))\n",
        "print(type(data2))"
      ],
      "metadata": {
        "colab": {
          "base_uri": "https://localhost:8080/"
        },
        "id": "RtTEgUI5SwES",
        "outputId": "530da81e-7cc4-4405-ccee-c00857109213"
      },
      "execution_count": null,
      "outputs": [
        {
          "output_type": "stream",
          "name": "stdout",
          "text": [
            "112\n",
            "<class 'dict'>\n",
            "37\n",
            "<class 'dict'>\n",
            "39\n",
            "<class 'dict'>\n"
          ]
        }
      ]
    },
    {
      "cell_type": "markdown",
      "source": [
        "**確認檔案SHAPE**"
      ],
      "metadata": {
        "id": "yA6iIw8A7csA"
      }
    },
    {
      "cell_type": "code",
      "source": [
        "idx = 0\n",
        "print(len(data))\n",
        "print(type(data))\n",
        "print(np.array(data[str(idx)]['r_hand']).shape)"
      ],
      "metadata": {
        "colab": {
          "base_uri": "https://localhost:8080/"
        },
        "id": "p4-p-YlO7oWS",
        "outputId": "8835af1c-a76f-4de9-d5f1-6fcb1ae05177"
      },
      "execution_count": null,
      "outputs": [
        {
          "output_type": "stream",
          "name": "stdout",
          "text": [
            "112\n",
            "<class 'dict'>\n",
            "(300, 63)\n"
          ]
        }
      ]
    },
    {
      "cell_type": "markdown",
      "source": [
        "# **train dataset**"
      ],
      "metadata": {
        "id": "2RHYiuE7-ODr"
      }
    },
    {
      "cell_type": "code",
      "source": [
        "from keras.utils import np_utils\n",
        "i = 0\n",
        "trainx = []\n",
        "trainy = []\n",
        "for i  in range(0,112):\n",
        " trainx.append(np.array(data[str(i)]['r_hand']))\n",
        " trainy.append(int(data[str(i)]['r_ground_truth']))\n",
        " trainx.append(np.array(data[str(i)]['l_hand']))\n",
        " trainy.append(int(data[str(i)]['l_ground_truth']))\n",
        "#print(np.array(trainx).shape)\n",
        "\n",
        "for i  in range(0,37):\n",
        " trainx.append(np.array(data1[str(i)]['r_hand']))\n",
        " trainy.append(int(data1[str(i)]['r_ground_truth']))\n",
        " trainx.append(np.array(data1[str(i)]['l_hand']))\n",
        " trainy.append(int(data1[str(i)]['l_ground_truth']))\n",
        "#print(np.array(trainx).shape)\n",
        "\n",
        "for i  in range(0,29):\n",
        " trainx.append(np.array(data2[str(i)]['r_hand']))\n",
        " trainy.append(int(data2[str(i)]['r_ground_truth']))\n",
        " trainx.append(np.array(data2[str(i)]['l_hand']))\n",
        " trainy.append(int(data2[str(i)]['l_ground_truth']))\n",
        "#print(np.array(trainx).shape)\n",
        "\n",
        "trainy_onehot = np_utils.to_categorical(trainy)\n",
        "print(np.array(trainx).shape)\n",
        "trainy_onehot = np_utils.to_categorical(trainy) \n",
        "print(trainy_onehot.shape)"
      ],
      "metadata": {
        "id": "u7vgmfW4-Sis",
        "colab": {
          "base_uri": "https://localhost:8080/"
        },
        "outputId": "d1ae76e5-fa42-4afb-e0ac-d0ca9dbc1099"
      },
      "execution_count": null,
      "outputs": [
        {
          "output_type": "stream",
          "name": "stdout",
          "text": [
            "(356, 300, 63)\n",
            "(356, 28)\n"
          ]
        }
      ]
    },
    {
      "cell_type": "markdown",
      "source": [
        "去除機率"
      ],
      "metadata": {
        "id": "Td5M15Td6PTd"
      }
    },
    {
      "cell_type": "code",
      "source": [
        "trainxn = np.empty(shape = (356,300,42))\n",
        "for i in range(0,356):\n",
        "  for j in range(0,300):\n",
        "    temp = 0\n",
        "    for k in range(0,63):\n",
        "      if((k+1)%3 != 0):\n",
        "        #print(temp)\n",
        "        trainxn[i][j][temp] = trainx[i][j][k]\n",
        "        temp = temp + 1\n",
        "\n",
        "print(np.array(trainxn).shape)\n",
        "print(trainxn[1][1])"
      ],
      "metadata": {
        "colab": {
          "base_uri": "https://localhost:8080/"
        },
        "id": "UX4kXIfE6OYf",
        "outputId": "c21968c6-205c-4fa9-d839-14a0f2f8c6e1"
      },
      "execution_count": null,
      "outputs": [
        {
          "output_type": "stream",
          "name": "stdout",
          "text": [
            "(356, 300, 42)\n",
            "[398.282 395.801 373.069 386.144 347.318 373.806 328.542 359.858 309.766\n",
            " 355.566 367.704 339.472 363.412 313.722 360.193 293.872 359.657 278.315\n",
            " 384.871 339.472 385.407 307.284 384.334 283.68  385.407 274.023 398.282\n",
            " 342.691 403.111 309.966 405.793 290.654 405.793 272.95  413.303 346.446\n",
            " 423.496 325.524 428.861 313.185 436.371 300.846]\n"
          ]
        }
      ]
    },
    {
      "cell_type": "markdown",
      "source": [
        "# **Model**"
      ],
      "metadata": {
        "id": "S1yJJ4SY_y78"
      }
    },
    {
      "cell_type": "code",
      "source": [
        "import tensorflow as tf\n",
        "from keras.models import Sequential\n",
        "from keras.layers import Dense, Dropout, GRU, SimpleRNN, LSTM, Flatten\n",
        "import keras\n",
        "model= Sequential()\n",
        "model.add(SimpleRNN(256, return_sequences=True))\n",
        "model.add(SimpleRNN(128))\n",
        "model.add(Dense(units=256, activation='sigmoid'))\n",
        "model.add(Dropout(0.2))\n",
        "model.add(Dense(units=128, activation='sigmoid'))\n",
        "model.add(Dropout(0.2))\n",
        "model.add(Dense(units=64, activation='relu'))\n",
        "model.add(Dropout(0.2))\n",
        "model.add(Dense(units=28,activation='relu'))\n",
        "\n",
        "model.compile(loss='mse', optimizer='adagrad', metrics=['accuracy'])\n",
        "optimizer = keras.optimizers.Adagrad(learning_rate=0.001)\n",
        "model.compile(loss='mse', optimizer = optimizer, metrics=['accuracy'])\n",
        "model.build((356,300,42))\n",
        "print(model.summary())\n"
      ],
      "metadata": {
        "colab": {
          "base_uri": "https://localhost:8080/"
        },
        "id": "Wc9671ogTXlr",
        "outputId": "b44d56e2-6bc1-438b-f1f9-0c831e3ae4f2"
      },
      "execution_count": null,
      "outputs": [
        {
          "output_type": "stream",
          "name": "stdout",
          "text": [
            "Model: \"sequential\"\n",
            "_________________________________________________________________\n",
            " Layer (type)                Output Shape              Param #   \n",
            "=================================================================\n",
            " simple_rnn (SimpleRNN)      (356, 300, 256)           76544     \n",
            "                                                                 \n",
            " simple_rnn_1 (SimpleRNN)    (356, 128)                49280     \n",
            "                                                                 \n",
            " dense (Dense)               (356, 256)                33024     \n",
            "                                                                 \n",
            " dropout (Dropout)           (356, 256)                0         \n",
            "                                                                 \n",
            " dense_1 (Dense)             (356, 128)                32896     \n",
            "                                                                 \n",
            " dropout_1 (Dropout)         (356, 128)                0         \n",
            "                                                                 \n",
            " dense_2 (Dense)             (356, 64)                 8256      \n",
            "                                                                 \n",
            " dropout_2 (Dropout)         (356, 64)                 0         \n",
            "                                                                 \n",
            " dense_3 (Dense)             (356, 28)                 1820      \n",
            "                                                                 \n",
            "=================================================================\n",
            "Total params: 201,820\n",
            "Trainable params: 201,820\n",
            "Non-trainable params: 0\n",
            "_________________________________________________________________\n",
            "None\n"
          ]
        }
      ]
    },
    {
      "cell_type": "code",
      "source": [
        "trainy = np.array(trainy)\n",
        "history = model.fit(trainxn, trainy_onehot, epochs = 50 , batch_size = 300, validation_split = 0.2)"
      ],
      "metadata": {
        "colab": {
          "base_uri": "https://localhost:8080/"
        },
        "id": "i0u52tK8btdq",
        "outputId": "669171fb-2053-480e-b2fe-88c5b593e43c"
      },
      "execution_count": null,
      "outputs": [
        {
          "output_type": "stream",
          "name": "stdout",
          "text": [
            "Epoch 1/50\n",
            "1/1 [==============================] - 3s 3s/step - loss: 0.1233 - accuracy: 0.0423 - val_loss: 0.0736 - val_accuracy: 0.0833\n",
            "Epoch 2/50\n",
            "1/1 [==============================] - 2s 2s/step - loss: 0.1239 - accuracy: 0.0423 - val_loss: 0.0731 - val_accuracy: 0.0833\n",
            "Epoch 3/50\n",
            "1/1 [==============================] - 2s 2s/step - loss: 0.1243 - accuracy: 0.0352 - val_loss: 0.0725 - val_accuracy: 0.0833\n",
            "Epoch 4/50\n",
            "1/1 [==============================] - 2s 2s/step - loss: 0.1218 - accuracy: 0.0458 - val_loss: 0.0720 - val_accuracy: 0.0833\n",
            "Epoch 5/50\n",
            "1/1 [==============================] - 3s 3s/step - loss: 0.1202 - accuracy: 0.0352 - val_loss: 0.0714 - val_accuracy: 0.0833\n",
            "Epoch 6/50\n",
            "1/1 [==============================] - 3s 3s/step - loss: 0.1223 - accuracy: 0.0458 - val_loss: 0.0709 - val_accuracy: 0.0833\n",
            "Epoch 7/50\n",
            "1/1 [==============================] - 2s 2s/step - loss: 0.1206 - accuracy: 0.0282 - val_loss: 0.0704 - val_accuracy: 0.0833\n",
            "Epoch 8/50\n",
            "1/1 [==============================] - 2s 2s/step - loss: 0.1210 - accuracy: 0.0282 - val_loss: 0.0699 - val_accuracy: 0.0833\n",
            "Epoch 9/50\n",
            "1/1 [==============================] - 2s 2s/step - loss: 0.1162 - accuracy: 0.0423 - val_loss: 0.0694 - val_accuracy: 0.0833\n",
            "Epoch 10/50\n",
            "1/1 [==============================] - 2s 2s/step - loss: 0.1171 - accuracy: 0.0458 - val_loss: 0.0689 - val_accuracy: 0.0833\n",
            "Epoch 11/50\n",
            "1/1 [==============================] - 3s 3s/step - loss: 0.1205 - accuracy: 0.0211 - val_loss: 0.0684 - val_accuracy: 0.0833\n",
            "Epoch 12/50\n",
            "1/1 [==============================] - 4s 4s/step - loss: 0.1185 - accuracy: 0.0493 - val_loss: 0.0679 - val_accuracy: 0.0833\n",
            "Epoch 13/50\n",
            "1/1 [==============================] - 2s 2s/step - loss: 0.1126 - accuracy: 0.0528 - val_loss: 0.0674 - val_accuracy: 0.0833\n",
            "Epoch 14/50\n",
            "1/1 [==============================] - 2s 2s/step - loss: 0.1121 - accuracy: 0.0458 - val_loss: 0.0670 - val_accuracy: 0.0833\n",
            "Epoch 15/50\n",
            "1/1 [==============================] - 2s 2s/step - loss: 0.1163 - accuracy: 0.0423 - val_loss: 0.0666 - val_accuracy: 0.0833\n",
            "Epoch 16/50\n",
            "1/1 [==============================] - 2s 2s/step - loss: 0.1129 - accuracy: 0.0352 - val_loss: 0.0661 - val_accuracy: 0.0833\n",
            "Epoch 17/50\n",
            "1/1 [==============================] - 4s 4s/step - loss: 0.1120 - accuracy: 0.0423 - val_loss: 0.0657 - val_accuracy: 0.0833\n",
            "Epoch 18/50\n",
            "1/1 [==============================] - 3s 3s/step - loss: 0.1154 - accuracy: 0.0458 - val_loss: 0.0653 - val_accuracy: 0.0833\n",
            "Epoch 19/50\n",
            "1/1 [==============================] - 2s 2s/step - loss: 0.1107 - accuracy: 0.0423 - val_loss: 0.0649 - val_accuracy: 0.0833\n",
            "Epoch 20/50\n",
            "1/1 [==============================] - 2s 2s/step - loss: 0.1137 - accuracy: 0.0493 - val_loss: 0.0644 - val_accuracy: 0.0833\n",
            "Epoch 21/50\n",
            "1/1 [==============================] - 2s 2s/step - loss: 0.1126 - accuracy: 0.0282 - val_loss: 0.0640 - val_accuracy: 0.0833\n",
            "Epoch 22/50\n",
            "1/1 [==============================] - 2s 2s/step - loss: 0.1138 - accuracy: 0.0458 - val_loss: 0.0636 - val_accuracy: 0.0833\n",
            "Epoch 23/50\n",
            "1/1 [==============================] - 4s 4s/step - loss: 0.1139 - accuracy: 0.0282 - val_loss: 0.0632 - val_accuracy: 0.0833\n",
            "Epoch 24/50\n",
            "1/1 [==============================] - 3s 3s/step - loss: 0.1070 - accuracy: 0.0458 - val_loss: 0.0628 - val_accuracy: 0.0833\n",
            "Epoch 25/50\n",
            "1/1 [==============================] - 2s 2s/step - loss: 0.1110 - accuracy: 0.0387 - val_loss: 0.0624 - val_accuracy: 0.0833\n",
            "Epoch 26/50\n",
            "1/1 [==============================] - 2s 2s/step - loss: 0.1137 - accuracy: 0.0387 - val_loss: 0.0621 - val_accuracy: 0.0833\n",
            "Epoch 27/50\n",
            "1/1 [==============================] - 2s 2s/step - loss: 0.1098 - accuracy: 0.0282 - val_loss: 0.0617 - val_accuracy: 0.0833\n",
            "Epoch 28/50\n",
            "1/1 [==============================] - 2s 2s/step - loss: 0.1090 - accuracy: 0.0246 - val_loss: 0.0613 - val_accuracy: 0.0833\n",
            "Epoch 29/50\n",
            "1/1 [==============================] - 4s 4s/step - loss: 0.1070 - accuracy: 0.0458 - val_loss: 0.0610 - val_accuracy: 0.0833\n",
            "Epoch 30/50\n",
            "1/1 [==============================] - 2s 2s/step - loss: 0.1087 - accuracy: 0.0458 - val_loss: 0.0606 - val_accuracy: 0.0833\n",
            "Epoch 31/50\n",
            "1/1 [==============================] - 2s 2s/step - loss: 0.1067 - accuracy: 0.0246 - val_loss: 0.0602 - val_accuracy: 0.0833\n",
            "Epoch 32/50\n",
            "1/1 [==============================] - 2s 2s/step - loss: 0.1074 - accuracy: 0.0282 - val_loss: 0.0599 - val_accuracy: 0.0833\n",
            "Epoch 33/50\n",
            "1/1 [==============================] - 2s 2s/step - loss: 0.1085 - accuracy: 0.0387 - val_loss: 0.0596 - val_accuracy: 0.0833\n",
            "Epoch 34/50\n",
            "1/1 [==============================] - 2s 2s/step - loss: 0.1018 - accuracy: 0.0493 - val_loss: 0.0593 - val_accuracy: 0.0833\n",
            "Epoch 35/50\n",
            "1/1 [==============================] - 4s 4s/step - loss: 0.1040 - accuracy: 0.0458 - val_loss: 0.0590 - val_accuracy: 0.0833\n",
            "Epoch 36/50\n",
            "1/1 [==============================] - 3s 3s/step - loss: 0.1068 - accuracy: 0.0458 - val_loss: 0.0586 - val_accuracy: 0.0833\n",
            "Epoch 37/50\n",
            "1/1 [==============================] - 2s 2s/step - loss: 0.1035 - accuracy: 0.0387 - val_loss: 0.0583 - val_accuracy: 0.0833\n",
            "Epoch 38/50\n",
            "1/1 [==============================] - 2s 2s/step - loss: 0.1051 - accuracy: 0.0423 - val_loss: 0.0580 - val_accuracy: 0.0833\n",
            "Epoch 39/50\n",
            "1/1 [==============================] - 2s 2s/step - loss: 0.1051 - accuracy: 0.0387 - val_loss: 0.0577 - val_accuracy: 0.0833\n",
            "Epoch 40/50\n",
            "1/1 [==============================] - 2s 2s/step - loss: 0.1015 - accuracy: 0.0458 - val_loss: 0.0574 - val_accuracy: 0.0833\n",
            "Epoch 41/50\n",
            "1/1 [==============================] - 5s 5s/step - loss: 0.1039 - accuracy: 0.0528 - val_loss: 0.0571 - val_accuracy: 0.0833\n",
            "Epoch 42/50\n",
            "1/1 [==============================] - 2s 2s/step - loss: 0.1031 - accuracy: 0.0458 - val_loss: 0.0568 - val_accuracy: 0.0833\n",
            "Epoch 43/50\n",
            "1/1 [==============================] - 2s 2s/step - loss: 0.1032 - accuracy: 0.0352 - val_loss: 0.0565 - val_accuracy: 0.0833\n",
            "Epoch 44/50\n",
            "1/1 [==============================] - 2s 2s/step - loss: 0.1009 - accuracy: 0.0352 - val_loss: 0.0562 - val_accuracy: 0.0833\n",
            "Epoch 45/50\n",
            "1/1 [==============================] - 2s 2s/step - loss: 0.0994 - accuracy: 0.0317 - val_loss: 0.0559 - val_accuracy: 0.0833\n",
            "Epoch 46/50\n",
            "1/1 [==============================] - 3s 3s/step - loss: 0.1002 - accuracy: 0.0458 - val_loss: 0.0557 - val_accuracy: 0.0833\n",
            "Epoch 47/50\n",
            "1/1 [==============================] - 4s 4s/step - loss: 0.0986 - accuracy: 0.0458 - val_loss: 0.0554 - val_accuracy: 0.0833\n",
            "Epoch 48/50\n",
            "1/1 [==============================] - 2s 2s/step - loss: 0.0997 - accuracy: 0.0423 - val_loss: 0.0551 - val_accuracy: 0.0833\n",
            "Epoch 49/50\n",
            "1/1 [==============================] - 2s 2s/step - loss: 0.0988 - accuracy: 0.0599 - val_loss: 0.0549 - val_accuracy: 0.0833\n",
            "Epoch 50/50\n",
            "1/1 [==============================] - 2s 2s/step - loss: 0.0950 - accuracy: 0.0317 - val_loss: 0.0546 - val_accuracy: 0.0833\n"
          ]
        }
      ]
    },
    {
      "cell_type": "code",
      "source": [
        "import matplotlib.pyplot as plt\n",
        "print(history.history.keys())\n",
        "#  \"Accuracy\"\n",
        "plt.plot(history.history['accuracy'])\n",
        "plt.plot(history.history['val_accuracy'])\n",
        "plt.title('model accuracy')\n",
        "plt.ylabel('accuracy')\n",
        "plt.xlabel('epoch')\n",
        "plt.legend(['train', 'validation'], loc='upper left')\n",
        "plt.show()\n",
        "# \"Loss\"\n",
        "plt.plot(history.history['loss'])\n",
        "plt.plot(history.history['val_loss'])\n",
        "plt.title('model loss')\n",
        "plt.ylabel('loss')\n",
        "plt.xlabel('epoch')\n",
        "plt.legend(['train', 'validation'], loc='upper left')\n",
        "plt.show()"
      ],
      "metadata": {
        "colab": {
          "base_uri": "https://localhost:8080/",
          "height": 944
        },
        "id": "DP9jrOyz0g7R",
        "outputId": "f33de57b-7c26-4af2-ac8b-604007e5c706"
      },
      "execution_count": null,
      "outputs": [
        {
          "output_type": "stream",
          "name": "stdout",
          "text": [
            "dict_keys(['loss', 'accuracy', 'val_loss', 'val_accuracy'])\n"
          ]
        },
        {
          "output_type": "display_data",
          "data": {
            "text/plain": [
              "<Figure size 640x480 with 1 Axes>"
            ],
            "image/png": "[encoded data removed]"
          },
          "metadata": {}
        },
        {
          "output_type": "display_data",
          "data": {
            "text/plain": [
              "<Figure size 640x480 with 1 Axes>"
            ],
            "image/png": "[encoded data removed]"
          },
          "metadata": {}
        }
      ]
    },
    {
      "cell_type": "markdown",
      "source": [
        "# **test dataset**"
      ],
      "metadata": {
        "id": "tLMor59gf_19"
      }
    },
    {
      "cell_type": "code",
      "source": [
        "i = 100\n",
        "testx = []\n",
        "testy = []\n",
        "for i  in range(29,38):\n",
        " testx.append(np.array(data2[str(i)]['r_hand']))\n",
        " testy.append(np.array(data2[str(i)]['r_ground_truth']))\n",
        " testx.append(np.array(data2[str(i)]['l_hand']))\n",
        " testy.append(np.array(data2[str(i)]['l_ground_truth']))\n",
        "\n",
        "print(np.array(testx).shape)"
      ],
      "metadata": {
        "id": "_F7BVcanf6gX"
      },
      "execution_count": null,
      "outputs": []
    },
    {
      "cell_type": "markdown",
      "source": [
        "去除機率"
      ],
      "metadata": {
        "id": "1KJ-lc_jHtzR"
      }
    },
    {
      "cell_type": "code",
      "source": [
        "testxn = np.empty(shape = (18,300,42))\n",
        "for i in range(0,18):\n",
        "  for j in range(0,300):\n",
        "    temp = 0\n",
        "    for k in range(0,63):\n",
        "      if((k+1)%3 != 0):\n",
        "        #print(temp)\n",
        "        testxn[i][j][temp] = testx[i][j][k]\n",
        "        temp = temp + 1\n",
        "print(np.array(testxn).shape)\n",
        "print(testxn[1][1])"
      ],
      "metadata": {
        "id": "AWN40KD5HxNZ"
      },
      "execution_count": null,
      "outputs": []
    },
    {
      "cell_type": "code",
      "source": [
        "import math\n",
        "testxn = np.array(testxn)\n",
        "predict = model.predict(testxn)\n",
        "print(np.argmax(predict,axis=1))\n",
        "\n",
        "print(testy)"
      ],
      "metadata": {
        "id": "NsenPz-mgkdr"
      },
      "execution_count": null,
      "outputs": []
    }
  ]
}